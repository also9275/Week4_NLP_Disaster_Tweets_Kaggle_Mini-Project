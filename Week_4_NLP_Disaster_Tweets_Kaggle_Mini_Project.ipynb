{
  "nbformat": 4,
  "nbformat_minor": 0,
  "metadata": {
    "colab": {
      "provenance": [],
      "gpuType": "T4"
    },
    "kernelspec": {
      "name": "python3",
      "display_name": "Python 3"
    },
    "language_info": {
      "name": "python"
    },
    "accelerator": "GPU"
  },
  "cells": [
    {
      "cell_type": "code",
      "execution_count": 1,
      "metadata": {
        "colab": {
          "base_uri": "https://localhost:8080/"
        },
        "id": "mouaQFidcTtE",
        "outputId": "d7499301-6252-43d6-cfde-7a58923f2524"
      },
      "outputs": [
        {
          "output_type": "stream",
          "name": "stdout",
          "text": [
            "Mounted at /content/drive\n"
          ]
        }
      ],
      "source": [
        "from google.colab import drive\n",
        "drive.mount('/content/drive')"
      ]
    },
    {
      "cell_type": "code",
      "source": [
        "import csv\n",
        "import numpy as np\n",
        "import tensorflow as tf\n",
        "from tensorflow.keras.preprocessing.text import Tokenizer\n",
        "from tensorflow.keras.preprocessing.sequence import pad_sequences\n",
        "import matplotlib.pyplot as plt\n",
        "from scipy.stats import linregress"
      ],
      "metadata": {
        "id": "M_9rgEqPeIz_"
      },
      "execution_count": 2,
      "outputs": []
    },
    {
      "cell_type": "markdown",
      "source": [
        "# GitHub Link - https://github.com/also9275/Week4_NLP_Disaster_Tweets_Kaggle_Mini-Project"
      ],
      "metadata": {
        "id": "UPv9zzoGgYfM"
      }
    },
    {
      "cell_type": "markdown",
      "source": [
        "# 1. Brief description of the problem and data\n",
        "This problem is about a problem of tweets classification into ones that have information about some disaster and all others. Solution of this problem is quite important as it helps people to use twitter as main communication channel in times of emergency\n",
        "\n",
        "Data has train.csv and test.csv files.\n",
        "\n",
        "train.csv file has this columns:\n",
        "1. id\n",
        "2. keyword\n",
        "3. location\n",
        "4. text\n",
        "5. target\n",
        "\n",
        "I will be using column 4 as Xs and column 5 as Ys\n",
        "\n",
        "test.csv files has all the same columns except column 5. We will need to predict this column once model is ready"
      ],
      "metadata": {
        "id": "Q-qf7eh9ZoAg"
      }
    },
    {
      "cell_type": "code",
      "source": [
        "# Global constants that will be used in this notebook\n",
        "EMBEDDING_DIM = 100\n",
        "MAXLEN = 16\n",
        "TRUNCATING = 'post'\n",
        "PADDING = 'post'\n",
        "OOV_TOKEN = \"<OOV>\"\n",
        "MAX_EXAMPLES = 160000\n",
        "TRAINING_SPLIT = 0.9"
      ],
      "metadata": {
        "id": "0yg96GnXf_y6"
      },
      "execution_count": 3,
      "outputs": []
    },
    {
      "cell_type": "code",
      "source": [
        "# Download training and testing data\n",
        "import os\n",
        "os.environ['KAGGLE_CONFIG_DIR'] = '/content/drive/MyDrive/kaggle'"
      ],
      "metadata": {
        "id": "bt8Bd81cccgy"
      },
      "execution_count": 4,
      "outputs": []
    },
    {
      "cell_type": "code",
      "source": [
        "!kaggle competitions download -c nlp-getting-started"
      ],
      "metadata": {
        "colab": {
          "base_uri": "https://localhost:8080/"
        },
        "id": "n9g1G7vbckMd",
        "outputId": "462e804c-23de-4190-a131-fe581ab527bf"
      },
      "execution_count": 5,
      "outputs": [
        {
          "output_type": "stream",
          "name": "stdout",
          "text": [
            "Downloading nlp-getting-started.zip to /content\n",
            "\r  0% 0.00/593k [00:00<?, ?B/s]\n",
            "\r100% 593k/593k [00:00<00:00, 125MB/s]\n"
          ]
        }
      ]
    },
    {
      "cell_type": "code",
      "source": [
        "import zipfile\n",
        "\n",
        "# Unzip the archive\n",
        "local_zip = '/content/nlp-getting-started.zip'\n",
        "zip_ref = zipfile.ZipFile(local_zip, 'r')\n",
        "zip_ref.extractall()\n",
        "\n",
        "zip_ref.close()"
      ],
      "metadata": {
        "id": "WKh2mpT_coF1"
      },
      "execution_count": 6,
      "outputs": []
    },
    {
      "cell_type": "markdown",
      "source": [
        "# 2. Exploratory Data Analysis (EDA) - Inspect, Visualize and Clean the Data"
      ],
      "metadata": {
        "id": "Xt6PLKMha5m7"
      }
    },
    {
      "cell_type": "code",
      "source": [
        "# First let's see how data looks like\n",
        "TRAIN_CSV = \"/content/train.csv\"\n",
        "\n",
        "with open(TRAIN_CSV, 'r') as csvfile:\n",
        "    print(f\"Header looks like this:\\n\\n{csvfile.readline()}\")\n",
        "    print(f\"First data point looks like this:\\n\\n{csvfile.readline()}\")\n",
        "    print(f\"Second data point looks like this:\\n\\n{csvfile.readline()}\")"
      ],
      "metadata": {
        "colab": {
          "base_uri": "https://localhost:8080/"
        },
        "id": "QWn8rdFGcz_F",
        "outputId": "a402d17c-66ab-4b0a-e53f-483e59407958"
      },
      "execution_count": 7,
      "outputs": [
        {
          "output_type": "stream",
          "name": "stdout",
          "text": [
            "Header looks like this:\n",
            "\n",
            "id,keyword,location,text,target\n",
            "\n",
            "First data point looks like this:\n",
            "\n",
            "1,,,Our Deeds are the Reason of this #earthquake May ALLAH Forgive us all,1\n",
            "\n",
            "Second data point looks like this:\n",
            "\n",
            "4,,,Forest fire near La Ronge Sask. Canada,1\n",
            "\n"
          ]
        }
      ]
    },
    {
      "cell_type": "code",
      "source": [
        "def parse_data_from_file(filename):\n",
        "    \"\"\"\n",
        "    Extracts tweets and labels from a CSV file\n",
        "\n",
        "    Args:\n",
        "        filename (string): path to the CSV file\n",
        "\n",
        "    Returns:\n",
        "        tweets, labels (list of string, list of string): tuple containing lists\n",
        "        of tweets and labels\n",
        "    \"\"\"\n",
        "\n",
        "    tweets = []\n",
        "    labels = []\n",
        "\n",
        "    with open(filename, 'r') as csvfile:\n",
        "      next(csvfile)\n",
        "      reader = csv.reader(csvfile, delimiter=\",\")\n",
        "      for row in reader:\n",
        "        labels.append(int(row[-1]))\n",
        "        tweets.append(row[-2])\n",
        "\n",
        "    return tweets, labels"
      ],
      "metadata": {
        "id": "aNc-GsBsdkos"
      },
      "execution_count": 8,
      "outputs": []
    },
    {
      "cell_type": "code",
      "source": [
        "tweets, labels = parse_data_from_file(TRAIN_CSV)\n",
        "\n",
        "print(f\"dataset contains {len(tweets)} examples\\n\")\n",
        "\n",
        "print(f\"Text of second example:\\n{tweets[1]}\\n\")\n",
        "print(f\"Text of fourth example:\\n{tweets[3]}\")\n",
        "\n",
        "print(f\"\\nLabels of last 5 examples should look like this:\\n{labels[-5:]}\")"
      ],
      "metadata": {
        "colab": {
          "base_uri": "https://localhost:8080/"
        },
        "id": "vyAI46J6eaBB",
        "outputId": "631f7ef8-b5b2-4780-e13c-6caf7b3f393b"
      },
      "execution_count": 9,
      "outputs": [
        {
          "output_type": "stream",
          "name": "stdout",
          "text": [
            "dataset contains 7613 examples\n",
            "\n",
            "Text of second example:\n",
            "Forest fire near La Ronge Sask. Canada\n",
            "\n",
            "Text of fourth example:\n",
            "13,000 people receive #wildfires evacuation orders in California \n",
            "\n",
            "Labels of last 5 examples should look like this:\n",
            "[1, 1, 1, 1, 1]\n"
          ]
        }
      ]
    },
    {
      "cell_type": "code",
      "source": [
        "# Let's see distribution of classes\n",
        "plt.hist(labels)"
      ],
      "metadata": {
        "colab": {
          "base_uri": "https://localhost:8080/",
          "height": 499
        },
        "id": "5k15LCPobo66",
        "outputId": "e7021ace-2d66-43b0-bc7b-ae02e25420ff"
      },
      "execution_count": 12,
      "outputs": [
        {
          "output_type": "execute_result",
          "data": {
            "text/plain": [
              "(array([4342.,    0.,    0.,    0.,    0.,    0.,    0.,    0.,    0.,\n",
              "        3271.]),\n",
              " array([0. , 0.1, 0.2, 0.3, 0.4, 0.5, 0.6, 0.7, 0.8, 0.9, 1. ]),\n",
              " <BarContainer object of 10 artists>)"
            ]
          },
          "metadata": {},
          "execution_count": 12
        },
        {
          "output_type": "display_data",
          "data": {
            "text/plain": [
              "<Figure size 640x480 with 1 Axes>"
            ],
            "image/png": "[encoded data removed]"
          },
          "metadata": {}
        }
      ]
    },
    {
      "cell_type": "code",
      "source": [
        "# Next we will need to split training data into training and validation sets\n",
        "def train_val_split(tweets, labels, training_split):\n",
        "    \"\"\"\n",
        "    Splits the dataset into training and validation sets\n",
        "\n",
        "    Args:\n",
        "        tweets (list of string): lower-cased tweets without stopwords\n",
        "        labels (list of string): list of labels\n",
        "        training split (float): proportion of the dataset to convert to\n",
        "        include in the train set\n",
        "\n",
        "    Returns:\n",
        "        train_tweets, validation_tweets, train_labels,\n",
        "        validation_labels - lists containing the data splits\n",
        "    \"\"\"\n",
        "\n",
        "    # Compute the number of tweets that will be used for training\n",
        "    train_size = int(len(tweets) * training_split)\n",
        "\n",
        "    # Split the tweets and labels into train/validation splits\n",
        "    train_tweets = tweets[:train_size]\n",
        "    train_labels = labels[:train_size]\n",
        "\n",
        "    validation_tweets = tweets[train_size:]\n",
        "    validation_labels = labels[train_size:]\n",
        "\n",
        "    ### END CODE HERE\n",
        "\n",
        "    return train_tweets, validation_tweets, train_labels, validation_labels"
      ],
      "metadata": {
        "id": "WSGTP5hcei9n"
      },
      "execution_count": 14,
      "outputs": []
    },
    {
      "cell_type": "code",
      "source": [
        "train_tweets, val_tweets, train_labels, val_labels = train_val_split(\n",
        "    tweets, labels, TRAINING_SPLIT)\n",
        "\n",
        "print(f\"There are {len(train_tweets)} tweets for training.\\n\")\n",
        "print(f\"There are {len(train_labels)} labels for training.\\n\")\n",
        "print(f\"There are {len(val_tweets)} tweets for validation.\\n\")\n",
        "print(f\"There are {len(val_labels)} labels for validation.\")"
      ],
      "metadata": {
        "colab": {
          "base_uri": "https://localhost:8080/"
        },
        "id": "g2SimKNVf3BB",
        "outputId": "5a8ffd9b-f9d7-4b3a-ac29-9e5078eb810d"
      },
      "execution_count": 15,
      "outputs": [
        {
          "output_type": "stream",
          "name": "stdout",
          "text": [
            "There are 6851 tweets for training.\n",
            "\n",
            "There are 6851 labels for training.\n",
            "\n",
            "There are 762 tweets for validation.\n",
            "\n",
            "There are 762 labels for validation.\n"
          ]
        }
      ]
    },
    {
      "cell_type": "code",
      "source": [
        "# To use text of tweets in our model we need to convert text to tokens\n",
        "def fit_tokenizer(train_tweets, oov_token):\n",
        "    \"\"\"\n",
        "    Instantiates the Tokenizer class on the training tweets\n",
        "\n",
        "    Args:\n",
        "        train_tweets (list of string): lower-cased tweets without stopwords to\n",
        "        be used for training\n",
        "        oov_token (string) - symbol for the out-of-vocabulary token\n",
        "\n",
        "    Returns:\n",
        "        tokenizer (object): an instance of the Tokenizer class containing\n",
        "        the word-index dictionary\n",
        "    \"\"\"\n",
        "    tokenizer = Tokenizer(oov_token=oov_token)\n",
        "    tokenizer.fit_on_texts(train_tweets)\n",
        "\n",
        "    return tokenizer"
      ],
      "metadata": {
        "id": "kKMQEQoIgDOq"
      },
      "execution_count": 16,
      "outputs": []
    },
    {
      "cell_type": "code",
      "source": [
        "tokenizer = fit_tokenizer(train_tweets, OOV_TOKEN)\n",
        "\n",
        "word_index = tokenizer.word_index\n",
        "VOCAB_SIZE = len(word_index)\n",
        "\n",
        "print(f\"Vocabulary contains {VOCAB_SIZE} words\\n\")\n",
        "print(\"<OOV> token included in vocabulary\" if \"<OOV>\" in word_index else\n",
        "      \"<OOV> token NOT included in vocabulary\")\n",
        "print(f\"\\nindex of word 'i' is {word_index['i']}\")"
      ],
      "metadata": {
        "colab": {
          "base_uri": "https://localhost:8080/"
        },
        "id": "AVf3sSF3geIW",
        "outputId": "929c67ae-5b65-4163-bdda-71cf418db169"
      },
      "execution_count": 17,
      "outputs": [
        {
          "output_type": "stream",
          "name": "stdout",
          "text": [
            "Vocabulary contains 21099 words\n",
            "\n",
            "<OOV> token included in vocabulary\n",
            "\n",
            "index of word 'i' is 10\n"
          ]
        }
      ]
    },
    {
      "cell_type": "code",
      "source": [
        "# and finally we need to make sure that all tweets have same length\n",
        "def seq_pad_and_trunc(tweets, tokenizer, padding, truncating, maxlen):\n",
        "    \"\"\"\n",
        "    Generates an array of token tweets and pads them to the same length\n",
        "\n",
        "    Args:\n",
        "        tweets (list of string): list of tweets to tokenize and pad\n",
        "        tokenizer (object): Tokenizer instance containing the word-index dictionary\n",
        "        padding (string): type of padding to use\n",
        "        truncating (string): type of truncating to use\n",
        "        maxlen (int): maximum length of the token sequence\n",
        "\n",
        "    Returns:\n",
        "        pad_trunc_tweets (array of int): tokenized tweets padded to the same length\n",
        "    \"\"\"\n",
        "    tweets_seq = tokenizer.texts_to_sequences(tweets)\n",
        "\n",
        "    # Pad the tweets using the correct padding, truncating and maxlen\n",
        "    pad_trunc_tweets = pad_sequences(tweets_seq, maxlen=maxlen,\n",
        "                                     padding=padding, truncating=truncating)\n",
        "\n",
        "\n",
        "    return pad_trunc_tweets"
      ],
      "metadata": {
        "id": "8PUvTzvog-LT"
      },
      "execution_count": 18,
      "outputs": []
    },
    {
      "cell_type": "code",
      "source": [
        "train_pad_trunc_seq = seq_pad_and_trunc(train_tweets, tokenizer, PADDING,\n",
        "                                        TRUNCATING, MAXLEN)\n",
        "val_pad_trunc_seq = seq_pad_and_trunc(val_tweets, tokenizer, PADDING,\n",
        "                                      TRUNCATING, MAXLEN)\n",
        "\n",
        "print(f\"Padded and truncated training sequences have shape: {train_pad_trunc_seq.shape}\\n\")\n",
        "print(f\"Padded and truncated validation sequences have shape: {val_pad_trunc_seq.shape}\")"
      ],
      "metadata": {
        "colab": {
          "base_uri": "https://localhost:8080/"
        },
        "id": "PC0krb0dhBQh",
        "outputId": "35cb9890-63e8-46af-9224-46494627788b"
      },
      "execution_count": 19,
      "outputs": [
        {
          "output_type": "stream",
          "name": "stdout",
          "text": [
            "Padded and truncated training sequences have shape: (6851, 16)\n",
            "\n",
            "Padded and truncated validation sequences have shape: (762, 16)\n"
          ]
        }
      ]
    },
    {
      "cell_type": "code",
      "source": [
        "# We also need to convert labels to np.arrays, so we can use it later in the model\n",
        "train_labels = np.array(train_labels)\n",
        "val_labels = np.array(val_labels)"
      ],
      "metadata": {
        "id": "CgHcu1zghtJ0"
      },
      "execution_count": 20,
      "outputs": []
    },
    {
      "cell_type": "markdown",
      "source": [
        "# 3. Model Architecture\n",
        "for a first iterartion I would like to try simple model that has Embedding layer on the top, then Bidirectional LSTM layer, following plain LSTM layer, then plain Dense layer and finally classifiction layer with sigmoid function"
      ],
      "metadata": {
        "id": "PBJtOdaHchGa"
      }
    },
    {
      "cell_type": "code",
      "source": [
        "def create_model(vocab_size, embedding_dim, maxlen):\n",
        "    \"\"\"\n",
        "    Creates a binary sentiment classifier model\n",
        "\n",
        "    Args:\n",
        "        vocab_size (int): size of the vocabulary for the Embedding layer input\n",
        "        embedding_dim (int): dimensionality of the Embedding layer output\n",
        "        maxlen (int): length of the input sequences\n",
        "        embeddings_matrix (array): predefined weights of the embeddings\n",
        "\n",
        "    Returns:\n",
        "        model (tf.keras Model): the sentiment classifier model\n",
        "    \"\"\"\n",
        "\n",
        "    model = tf.keras.Sequential([\n",
        "        tf.keras.layers.Embedding(vocab_size, embedding_dim),\n",
        "        tf.keras.layers.Bidirectional(tf.keras.layers.LSTM(256, return_sequences=True)),\n",
        "        tf.keras.layers.LSTM(128),\n",
        "        tf.keras.layers.Dense(128, activation='relu'),\n",
        "        tf.keras.layers.Dense(1, activation='sigmoid')\n",
        "    ])\n",
        "\n",
        "    model.compile(loss='binary_crossentropy',\n",
        "                  optimizer='adam',\n",
        "                  metrics=['accuracy'])\n",
        "\n",
        "    return model"
      ],
      "metadata": {
        "id": "75u3vnddkDLC"
      },
      "execution_count": 21,
      "outputs": []
    },
    {
      "cell_type": "code",
      "source": [
        "model = create_model(VOCAB_SIZE, EMBEDDING_DIM, MAXLEN)\n",
        "history = model.fit(train_pad_trunc_seq, train_labels, epochs=20,\n",
        "                    validation_data=(val_pad_trunc_seq, val_labels))"
      ],
      "metadata": {
        "colab": {
          "base_uri": "https://localhost:8080/"
        },
        "id": "irFZHeOOk-L5",
        "outputId": "edc6cdae-1afe-4f11-946c-af4d4c7fe6ab"
      },
      "execution_count": 22,
      "outputs": [
        {
          "output_type": "stream",
          "name": "stdout",
          "text": [
            "Epoch 1/20\n",
            "215/215 [==============================] - 23s 70ms/step - loss: 0.5087 - accuracy: 0.7592 - val_loss: 0.5102 - val_accuracy: 0.7546\n",
            "Epoch 2/20\n",
            "215/215 [==============================] - 4s 19ms/step - loss: 0.2688 - accuracy: 0.8988 - val_loss: 0.5258 - val_accuracy: 0.7402\n",
            "Epoch 3/20\n",
            "215/215 [==============================] - 4s 20ms/step - loss: 0.1402 - accuracy: 0.9530 - val_loss: 0.7382 - val_accuracy: 0.6824\n",
            "Epoch 4/20\n",
            "215/215 [==============================] - 4s 17ms/step - loss: 0.0878 - accuracy: 0.9756 - val_loss: 0.6213 - val_accuracy: 0.7310\n",
            "Epoch 5/20\n",
            "215/215 [==============================] - 2s 10ms/step - loss: 0.0592 - accuracy: 0.9813 - val_loss: 1.1701 - val_accuracy: 0.7021\n",
            "Epoch 6/20\n",
            "215/215 [==============================] - 2s 10ms/step - loss: 0.0469 - accuracy: 0.9839 - val_loss: 1.1047 - val_accuracy: 0.7126\n",
            "Epoch 7/20\n",
            "215/215 [==============================] - 2s 9ms/step - loss: 0.0356 - accuracy: 0.9866 - val_loss: 1.3771 - val_accuracy: 0.6798\n",
            "Epoch 8/20\n",
            "215/215 [==============================] - 2s 10ms/step - loss: 0.0325 - accuracy: 0.9860 - val_loss: 1.3630 - val_accuracy: 0.6824\n",
            "Epoch 9/20\n",
            "215/215 [==============================] - 3s 15ms/step - loss: 0.0257 - accuracy: 0.9880 - val_loss: 1.5210 - val_accuracy: 0.7113\n",
            "Epoch 10/20\n",
            "215/215 [==============================] - 3s 15ms/step - loss: 0.0239 - accuracy: 0.9880 - val_loss: 1.8593 - val_accuracy: 0.6496\n",
            "Epoch 11/20\n",
            "215/215 [==============================] - 2s 10ms/step - loss: 0.0263 - accuracy: 0.9889 - val_loss: 2.0149 - val_accuracy: 0.6864\n",
            "Epoch 12/20\n",
            "215/215 [==============================] - 2s 10ms/step - loss: 0.0274 - accuracy: 0.9874 - val_loss: 1.6201 - val_accuracy: 0.7139\n",
            "Epoch 13/20\n",
            "215/215 [==============================] - 2s 10ms/step - loss: 0.0272 - accuracy: 0.9876 - val_loss: 1.6093 - val_accuracy: 0.6627\n",
            "Epoch 14/20\n",
            "215/215 [==============================] - 2s 10ms/step - loss: 0.0283 - accuracy: 0.9870 - val_loss: 2.3152 - val_accuracy: 0.6575\n",
            "Epoch 15/20\n",
            "215/215 [==============================] - 3s 13ms/step - loss: 0.0390 - accuracy: 0.9823 - val_loss: 1.2784 - val_accuracy: 0.7192\n",
            "Epoch 16/20\n",
            "215/215 [==============================] - 3s 13ms/step - loss: 0.0286 - accuracy: 0.9857 - val_loss: 1.7630 - val_accuracy: 0.6575\n",
            "Epoch 17/20\n",
            "215/215 [==============================] - 2s 9ms/step - loss: 0.0267 - accuracy: 0.9874 - val_loss: 2.1065 - val_accuracy: 0.6772\n",
            "Epoch 18/20\n",
            "215/215 [==============================] - 2s 9ms/step - loss: 0.0372 - accuracy: 0.9837 - val_loss: 1.4069 - val_accuracy: 0.6916\n",
            "Epoch 19/20\n",
            "215/215 [==============================] - 2s 10ms/step - loss: 0.0230 - accuracy: 0.9888 - val_loss: 1.5168 - val_accuracy: 0.7073\n",
            "Epoch 20/20\n",
            "215/215 [==============================] - 2s 10ms/step - loss: 0.0193 - accuracy: 0.9899 - val_loss: 1.9498 - val_accuracy: 0.6955\n"
          ]
        }
      ]
    },
    {
      "cell_type": "markdown",
      "source": [
        "# 4. Results and Analysis\n",
        "first let's try to visualize our loss function for train and validation sets."
      ],
      "metadata": {
        "id": "hlxMZw_1dhMG"
      }
    },
    {
      "cell_type": "code",
      "source": [
        "#-----------------------------------------------------------\n",
        "# Retrieve a list of list results on training and test data\n",
        "# sets for each training epoch\n",
        "#-----------------------------------------------------------\n",
        "loss = history.history['loss']\n",
        "val_loss = history.history['val_loss']\n",
        "\n",
        "epochs = [*range(20)]\n",
        "\n",
        "#------------------------------------------------\n",
        "# Plot training and validation loss per epoch\n",
        "#------------------------------------------------\n",
        "plt.plot(epochs, loss, 'r')\n",
        "plt.plot(epochs, val_loss, 'b')\n",
        "plt.title('Training and validation loss')\n",
        "plt.xlabel(\"Epochs\")\n",
        "plt.ylabel(\"Loss\")\n",
        "plt.legend([\"Loss\", \"Validation Loss\"])\n",
        "plt.show()"
      ],
      "metadata": {
        "colab": {
          "base_uri": "https://localhost:8080/",
          "height": 472
        },
        "id": "Jlb4jIyRlr-W",
        "outputId": "9a6b4f2f-4e18-4a25-d097-ab6660255bb3"
      },
      "execution_count": 23,
      "outputs": [
        {
          "output_type": "display_data",
          "data": {
            "text/plain": [
              "<Figure size 640x480 with 1 Axes>"
            ],
            "image/png": "[encoded data removed]"
          },
          "metadata": {}
        }
      ]
    },
    {
      "cell_type": "markdown",
      "source": [
        "# For me it looks like we are overfitting. Nevertheless, let's try to predict data and make a first submission to get the score"
      ],
      "metadata": {
        "id": "SooZm1wYdtIv"
      }
    },
    {
      "cell_type": "code",
      "source": [
        "def parse_data_test_file(filename, oov_token, maxlen, padding, truncating):\n",
        "    \"\"\"\n",
        "    Extracts twits and labels from a CSV file\n",
        "\n",
        "    Args:\n",
        "        filename (string): path to the CSV file\n",
        "\n",
        "    Returns:\n",
        "        twits (ist of string)\n",
        "    \"\"\"\n",
        "\n",
        "    tweets = []\n",
        "\n",
        "    with open(filename, 'r') as csvfile:\n",
        "      next(csvfile)\n",
        "      reader = csv.reader(csvfile, delimiter=\",\")\n",
        "      for row in reader:\n",
        "        tweets.append(row[-2])\n",
        "\n",
        "\n",
        "    tokenizer = Tokenizer(oov_token=oov_token)\n",
        "    tokenizer.fit_on_texts(tweets)\n",
        "\n",
        "\n",
        "    tweets_seq = tokenizer.texts_to_sequences(tweets)\n",
        "    pad_trunc_tweets = pad_sequences(tweets_seq, maxlen=maxlen,\n",
        "                                     padding=padding, truncating=truncating)\n",
        "    return pad_trunc_tweets"
      ],
      "metadata": {
        "id": "5WJyc1-fmMiS"
      },
      "execution_count": 24,
      "outputs": []
    },
    {
      "cell_type": "code",
      "source": [
        "TEST_CSV = \"/content/test.csv\"\n",
        "test_tweets = parse_data_test_file(TEST_CSV, OOV_TOKEN, MAXLEN, PADDING,\n",
        "                                   TRUNCATING)"
      ],
      "metadata": {
        "id": "NRkp9YzWoCDD"
      },
      "execution_count": 25,
      "outputs": []
    },
    {
      "cell_type": "code",
      "source": [
        "classes = model.predict(test_tweets)"
      ],
      "metadata": {
        "colab": {
          "base_uri": "https://localhost:8080/"
        },
        "id": "G8hlq7ZyoRUs",
        "outputId": "ff79841a-d9bb-4bdc-ebb0-3d1063edaf05"
      },
      "execution_count": 26,
      "outputs": [
        {
          "output_type": "stream",
          "name": "stdout",
          "text": [
            "102/102 [==============================] - 1s 4ms/step\n"
          ]
        }
      ]
    },
    {
      "cell_type": "code",
      "source": [
        "output = open(\"submission.csv\", \"w\")\n",
        "output.write(\"id,target\\n\")\n",
        "with open(TEST_CSV, 'r') as csvfile:\n",
        "      next(csvfile)\n",
        "      reader = csv.reader(csvfile, delimiter=\",\")\n",
        "      for index, row in enumerate(reader):\n",
        "        if float(classes[index]) > 0.5:\n",
        "          class_res = 1\n",
        "        else:\n",
        "          class_res = 0\n",
        "        output.write(f\"{row[0]},{class_res}\\n\")\n",
        "output.close()"
      ],
      "metadata": {
        "id": "8sWLGShbodVO"
      },
      "execution_count": 27,
      "outputs": []
    },
    {
      "cell_type": "code",
      "source": [
        "!kaggle competitions submit -c nlp-getting-started -f submission.csv -m \"First submission\""
      ],
      "metadata": {
        "colab": {
          "base_uri": "https://localhost:8080/"
        },
        "id": "6yqD5hxUpZH1",
        "outputId": "1dde4214-c891-4ca6-8e5d-376af877b4ce"
      },
      "execution_count": 28,
      "outputs": [
        {
          "output_type": "stream",
          "name": "stdout",
          "text": [
            "100% 22.2k/22.2k [00:00<00:00, 27.7kB/s]\n",
            "Successfully submitted to Natural Language Processing with Disaster Tweets"
          ]
        }
      ]
    },
    {
      "cell_type": "markdown",
      "source": [
        "# Now let' try to update model to prevent overfitting. I think it makes sense to try to increate embedding size for Embedding layer and also decrease number of nodes in LSTM and Dense layers"
      ],
      "metadata": {
        "id": "rXvjbz3_d_fo"
      }
    },
    {
      "cell_type": "code",
      "source": [
        "def create_model_update(vocab_size, embedding_dim, maxlen):\n",
        "    \"\"\"\n",
        "    Creates a binary sentiment classifier model\n",
        "\n",
        "    Args:\n",
        "        vocab_size (int): size of the vocabulary for the Embedding layer input\n",
        "        embedding_dim (int): dimensionality of the Embedding layer output\n",
        "        maxlen (int): length of the input sequences\n",
        "        embeddings_matrix (array): predefined weights of the embeddings\n",
        "\n",
        "    Returns:\n",
        "        model (tf.keras Model): the sentiment classifier model\n",
        "    \"\"\"\n",
        "\n",
        "    model = tf.keras.Sequential([\n",
        "        tf.keras.layers.Embedding(vocab_size, 1000),\n",
        "        tf.keras.layers.Bidirectional(tf.keras.layers.LSTM(128, return_sequences=True)),\n",
        "        tf.keras.layers.LSTM(64),\n",
        "        tf.keras.layers.Dense(64, activation='relu'),\n",
        "        tf.keras.layers.Dense(1, activation='sigmoid')\n",
        "    ])\n",
        "\n",
        "    model.compile(loss='binary_crossentropy',\n",
        "                  optimizer='adam',\n",
        "                  metrics=['accuracy'])\n",
        "\n",
        "    return model"
      ],
      "metadata": {
        "id": "hxxMc2KEpejz"
      },
      "execution_count": 29,
      "outputs": []
    },
    {
      "cell_type": "code",
      "source": [
        "model_update = create_model_update(VOCAB_SIZE, EMBEDDING_DIM, MAXLEN)\n",
        "history_update = model_update.fit(train_pad_trunc_seq, train_labels, epochs=20,\n",
        "                    validation_data=(val_pad_trunc_seq, val_labels))"
      ],
      "metadata": {
        "colab": {
          "base_uri": "https://localhost:8080/"
        },
        "id": "CgKm-5jYeZBD",
        "outputId": "7786e205-2124-4021-b6d4-9030e02d0cb5"
      },
      "execution_count": 30,
      "outputs": [
        {
          "output_type": "stream",
          "name": "stdout",
          "text": [
            "Epoch 1/20\n",
            "215/215 [==============================] - 21s 74ms/step - loss: 0.5011 - accuracy: 0.7618 - val_loss: 0.4415 - val_accuracy: 0.8097\n",
            "Epoch 2/20\n",
            "215/215 [==============================] - 5s 22ms/step - loss: 0.2504 - accuracy: 0.9054 - val_loss: 0.5109 - val_accuracy: 0.7625\n",
            "Epoch 3/20\n",
            "215/215 [==============================] - 4s 19ms/step - loss: 0.1130 - accuracy: 0.9616 - val_loss: 0.8168 - val_accuracy: 0.7415\n",
            "Epoch 4/20\n",
            "215/215 [==============================] - 4s 18ms/step - loss: 0.0578 - accuracy: 0.9785 - val_loss: 0.8872 - val_accuracy: 0.7270\n",
            "Epoch 5/20\n",
            "215/215 [==============================] - 3s 16ms/step - loss: 0.0425 - accuracy: 0.9826 - val_loss: 0.9459 - val_accuracy: 0.7493\n",
            "Epoch 6/20\n",
            "215/215 [==============================] - 4s 17ms/step - loss: 0.0280 - accuracy: 0.9885 - val_loss: 1.3222 - val_accuracy: 0.7362\n",
            "Epoch 7/20\n",
            "215/215 [==============================] - 4s 17ms/step - loss: 0.0282 - accuracy: 0.9877 - val_loss: 1.1792 - val_accuracy: 0.7218\n",
            "Epoch 8/20\n",
            "215/215 [==============================] - 3s 14ms/step - loss: 0.0272 - accuracy: 0.9873 - val_loss: 1.2212 - val_accuracy: 0.7336\n",
            "Epoch 9/20\n",
            "215/215 [==============================] - 3s 15ms/step - loss: 0.0282 - accuracy: 0.9870 - val_loss: 1.5178 - val_accuracy: 0.7231\n",
            "Epoch 10/20\n",
            "215/215 [==============================] - 4s 20ms/step - loss: 0.0222 - accuracy: 0.9893 - val_loss: 1.3722 - val_accuracy: 0.7270\n",
            "Epoch 11/20\n",
            "215/215 [==============================] - 4s 17ms/step - loss: 0.0262 - accuracy: 0.9880 - val_loss: 1.6510 - val_accuracy: 0.7192\n",
            "Epoch 12/20\n",
            "215/215 [==============================] - 3s 15ms/step - loss: 0.0228 - accuracy: 0.9892 - val_loss: 1.5094 - val_accuracy: 0.7349\n",
            "Epoch 13/20\n",
            "215/215 [==============================] - 3s 14ms/step - loss: 0.0194 - accuracy: 0.9904 - val_loss: 1.6858 - val_accuracy: 0.7375\n",
            "Epoch 14/20\n",
            "215/215 [==============================] - 3s 14ms/step - loss: 0.0179 - accuracy: 0.9907 - val_loss: 1.9878 - val_accuracy: 0.7270\n",
            "Epoch 15/20\n",
            "215/215 [==============================] - 4s 19ms/step - loss: 0.0175 - accuracy: 0.9908 - val_loss: 2.0653 - val_accuracy: 0.7310\n",
            "Epoch 16/20\n",
            "215/215 [==============================] - 4s 20ms/step - loss: 0.0205 - accuracy: 0.9898 - val_loss: 1.5512 - val_accuracy: 0.7178\n",
            "Epoch 17/20\n",
            "215/215 [==============================] - 3s 13ms/step - loss: 0.0242 - accuracy: 0.9882 - val_loss: 1.5369 - val_accuracy: 0.7283\n",
            "Epoch 18/20\n",
            "215/215 [==============================] - 3s 14ms/step - loss: 0.0227 - accuracy: 0.9898 - val_loss: 1.5230 - val_accuracy: 0.7178\n",
            "Epoch 19/20\n",
            "215/215 [==============================] - 3s 16ms/step - loss: 0.0195 - accuracy: 0.9902 - val_loss: 1.6289 - val_accuracy: 0.7152\n",
            "Epoch 20/20\n",
            "215/215 [==============================] - 3s 16ms/step - loss: 0.0192 - accuracy: 0.9896 - val_loss: 1.8623 - val_accuracy: 0.7244\n"
          ]
        }
      ]
    },
    {
      "cell_type": "code",
      "source": [
        "classes = model.predict(test_tweets)\n",
        "output = open(\"submission.csv\", \"w\")\n",
        "output.write(\"id,target\\n\")\n",
        "with open(TEST_CSV, 'r') as csvfile:\n",
        "      next(csvfile)\n",
        "      reader = csv.reader(csvfile, delimiter=\",\")\n",
        "      for index, row in enumerate(reader):\n",
        "        if float(classes[index]) > 0.5:\n",
        "          class_res = 1\n",
        "        else:\n",
        "          class_res = 0\n",
        "        output.write(f\"{row[0]},{class_res}\\n\")\n",
        "output.close()"
      ],
      "metadata": {
        "colab": {
          "base_uri": "https://localhost:8080/"
        },
        "id": "O78eAgwKefod",
        "outputId": "893c5ab6-9ace-4554-9af6-f03b0176bffd"
      },
      "execution_count": 31,
      "outputs": [
        {
          "output_type": "stream",
          "name": "stdout",
          "text": [
            "102/102 [==============================] - 0s 4ms/step\n"
          ]
        }
      ]
    },
    {
      "cell_type": "code",
      "source": [
        "!kaggle competitions submit -c nlp-getting-started -f submission.csv -m \"Second submission\""
      ],
      "metadata": {
        "colab": {
          "base_uri": "https://localhost:8080/"
        },
        "id": "4fUKXC8le7W2",
        "outputId": "628f6739-8677-41ad-c72a-0f7584a47ab9"
      },
      "execution_count": 32,
      "outputs": [
        {
          "output_type": "stream",
          "name": "stdout",
          "text": [
            "100% 22.2k/22.2k [00:01<00:00, 21.4kB/s]\n",
            "Successfully submitted to Natural Language Processing with Disaster Tweets"
          ]
        }
      ]
    },
    {
      "cell_type": "markdown",
      "source": [
        "# Now let's try to make our model even more simple by removing one of the LSTM layers"
      ],
      "metadata": {
        "id": "a-tQf1LsfOah"
      }
    },
    {
      "cell_type": "code",
      "source": [
        "def create_model_update(vocab_size, embedding_dim, maxlen):\n",
        "    \"\"\"\n",
        "    Creates a binary sentiment classifier model\n",
        "\n",
        "    Args:\n",
        "        vocab_size (int): size of the vocabulary for the Embedding layer input\n",
        "        embedding_dim (int): dimensionality of the Embedding layer output\n",
        "        maxlen (int): length of the input sequences\n",
        "        embeddings_matrix (array): predefined weights of the embeddings\n",
        "\n",
        "    Returns:\n",
        "        model (tf.keras Model): the sentiment classifier model\n",
        "    \"\"\"\n",
        "\n",
        "    model = tf.keras.Sequential([\n",
        "        tf.keras.layers.Embedding(vocab_size, embedding_dim),\n",
        "        tf.keras.layers.Bidirectional(tf.keras.layers.LSTM(128)),\n",
        "        tf.keras.layers.Dense(64, activation='relu'),\n",
        "        tf.keras.layers.Dense(1, activation='sigmoid')\n",
        "    ])\n",
        "\n",
        "    model.compile(loss='binary_crossentropy',\n",
        "                  optimizer='adam',\n",
        "                  metrics=['accuracy'])\n",
        "\n",
        "    return model"
      ],
      "metadata": {
        "id": "t8zopxhtfHl1"
      },
      "execution_count": 33,
      "outputs": []
    },
    {
      "cell_type": "code",
      "source": [
        "model_update = create_model_update(VOCAB_SIZE, EMBEDDING_DIM, MAXLEN)\n",
        "history_update = model_update.fit(train_pad_trunc_seq, train_labels, epochs=20,\n",
        "                    validation_data=(val_pad_trunc_seq, val_labels))"
      ],
      "metadata": {
        "colab": {
          "base_uri": "https://localhost:8080/"
        },
        "id": "I2Kf021zfXDV",
        "outputId": "9c186972-b400-4b76-f2fb-aed7bfe641f6"
      },
      "execution_count": 34,
      "outputs": [
        {
          "output_type": "stream",
          "name": "stdout",
          "text": [
            "Epoch 1/20\n",
            "215/215 [==============================] - 14s 50ms/step - loss: 0.5076 - accuracy: 0.7551 - val_loss: 0.4481 - val_accuracy: 0.7822\n",
            "Epoch 2/20\n",
            "215/215 [==============================] - 2s 11ms/step - loss: 0.2699 - accuracy: 0.8968 - val_loss: 0.4775 - val_accuracy: 0.7874\n",
            "Epoch 3/20\n",
            "215/215 [==============================] - 2s 11ms/step - loss: 0.1360 - accuracy: 0.9520 - val_loss: 0.6923 - val_accuracy: 0.7664\n",
            "Epoch 4/20\n",
            "215/215 [==============================] - 2s 10ms/step - loss: 0.0788 - accuracy: 0.9737 - val_loss: 0.7038 - val_accuracy: 0.7638\n",
            "Epoch 5/20\n",
            "215/215 [==============================] - 3s 12ms/step - loss: 0.0514 - accuracy: 0.9826 - val_loss: 0.8755 - val_accuracy: 0.7454\n",
            "Epoch 6/20\n",
            "215/215 [==============================] - 2s 11ms/step - loss: 0.0367 - accuracy: 0.9857 - val_loss: 0.7704 - val_accuracy: 0.7520\n",
            "Epoch 7/20\n",
            "215/215 [==============================] - 2s 9ms/step - loss: 0.0267 - accuracy: 0.9870 - val_loss: 1.1859 - val_accuracy: 0.7349\n",
            "Epoch 8/20\n",
            "215/215 [==============================] - 2s 8ms/step - loss: 0.0248 - accuracy: 0.9874 - val_loss: 1.1637 - val_accuracy: 0.7270\n",
            "Epoch 9/20\n",
            "215/215 [==============================] - 2s 10ms/step - loss: 0.0262 - accuracy: 0.9874 - val_loss: 1.3057 - val_accuracy: 0.7402\n",
            "Epoch 10/20\n",
            "215/215 [==============================] - 2s 8ms/step - loss: 0.0384 - accuracy: 0.9845 - val_loss: 1.0484 - val_accuracy: 0.7231\n",
            "Epoch 11/20\n",
            "215/215 [==============================] - 2s 9ms/step - loss: 0.0272 - accuracy: 0.9879 - val_loss: 1.1492 - val_accuracy: 0.7165\n",
            "Epoch 12/20\n",
            "215/215 [==============================] - 2s 11ms/step - loss: 0.0241 - accuracy: 0.9877 - val_loss: 1.1128 - val_accuracy: 0.7415\n",
            "Epoch 13/20\n",
            "215/215 [==============================] - 2s 11ms/step - loss: 0.0227 - accuracy: 0.9889 - val_loss: 1.2549 - val_accuracy: 0.7493\n",
            "Epoch 14/20\n",
            "215/215 [==============================] - 2s 8ms/step - loss: 0.0222 - accuracy: 0.9892 - val_loss: 1.2142 - val_accuracy: 0.7257\n",
            "Epoch 15/20\n",
            "215/215 [==============================] - 2s 8ms/step - loss: 0.0208 - accuracy: 0.9893 - val_loss: 1.2346 - val_accuracy: 0.7152\n",
            "Epoch 16/20\n",
            "215/215 [==============================] - 2s 8ms/step - loss: 0.0185 - accuracy: 0.9904 - val_loss: 1.6219 - val_accuracy: 0.7297\n",
            "Epoch 17/20\n",
            "215/215 [==============================] - 2s 8ms/step - loss: 0.0183 - accuracy: 0.9905 - val_loss: 1.2044 - val_accuracy: 0.7244\n",
            "Epoch 18/20\n",
            "215/215 [==============================] - 2s 8ms/step - loss: 0.0181 - accuracy: 0.9907 - val_loss: 1.5015 - val_accuracy: 0.7205\n",
            "Epoch 19/20\n",
            "215/215 [==============================] - 2s 9ms/step - loss: 0.0181 - accuracy: 0.9905 - val_loss: 1.3988 - val_accuracy: 0.7113\n",
            "Epoch 20/20\n",
            "215/215 [==============================] - 3s 11ms/step - loss: 0.0177 - accuracy: 0.9907 - val_loss: 1.4952 - val_accuracy: 0.7244\n"
          ]
        }
      ]
    },
    {
      "cell_type": "code",
      "source": [
        "classes = model_update.predict(test_tweets)\n",
        "output = open(\"submission.csv\", \"w\")\n",
        "output.write(\"id,target\\n\")\n",
        "with open(TEST_CSV, 'r') as csvfile:\n",
        "      next(csvfile)\n",
        "      reader = csv.reader(csvfile, delimiter=\",\")\n",
        "      for index, row in enumerate(reader):\n",
        "        if float(classes[index]) > 0.5:\n",
        "          class_res = 1\n",
        "        else:\n",
        "          class_res = 0\n",
        "        output.write(f\"{row[0]},{class_res}\\n\")\n",
        "output.close()"
      ],
      "metadata": {
        "colab": {
          "base_uri": "https://localhost:8080/"
        },
        "id": "HfdYInLBfYpS",
        "outputId": "a3631797-3ec2-4d2f-dd0b-bef77d62ab58"
      },
      "execution_count": 35,
      "outputs": [
        {
          "output_type": "stream",
          "name": "stdout",
          "text": [
            "102/102 [==============================] - 1s 3ms/step\n"
          ]
        }
      ]
    },
    {
      "cell_type": "code",
      "source": [
        "!kaggle competitions submit -c nlp-getting-started -f submission.csv -m \"Third submission\""
      ],
      "metadata": {
        "colab": {
          "base_uri": "https://localhost:8080/"
        },
        "id": "Ce5u4KvUfrPR",
        "outputId": "ac7f82b1-ec61-4772-b965-547cf4fbfc28"
      },
      "execution_count": 36,
      "outputs": [
        {
          "output_type": "stream",
          "name": "stdout",
          "text": [
            "100% 22.2k/22.2k [00:00<00:00, 25.5kB/s]\n",
            "Successfully submitted to Natural Language Processing with Disaster Tweets"
          ]
        }
      ]
    },
    {
      "cell_type": "markdown",
      "source": [
        "# 5. Conclusion\n",
        "\n",
        "On a third iteration I was able to improve score a little bit. More iteration is needed for this competition. Also it might be a great idea to try to add other columns into the model"
      ],
      "metadata": {
        "id": "DJUaFrIRfzrY"
      }
    },
    {
      "cell_type": "code",
      "source": [],
      "metadata": {
        "id": "4xpR37ZUfvFd"
      },
      "execution_count": null,
      "outputs": []
    }
  ]
}